{
 "cells": [
  {
   "cell_type": "code",
   "execution_count": 1,
   "metadata": {},
   "outputs": [],
   "source": [
    "\n",
    "from tensorflow.keras import datasets, utils, optimizers, losses, callbacks\n",
    "from src.model import cnn_model\n",
    "from src.utils import read_config, plot_results, plot_predicts\n",
    "import datetime\n",
    "from tensorflow.keras import layers, models\n",
    "from tensorflow.keras.utils import image_dataset_from_directory\n",
    "\n",
    "import os\n",
    "import shutil, pathlib\n",
    "import matplotlib.pyplot as plt"
   ]
  },
  {
   "cell_type": "code",
   "execution_count": 2,
   "metadata": {},
   "outputs": [],
   "source": [
    "config = read_config()\n",
    "# Set paths for train and test data\n",
    "train_data_dir = './data/MNIST Dataset/Train'\n",
    "test_data_dir = './data/MNIST Dataset/Test'"
   ]
  },
  {
   "cell_type": "code",
   "execution_count": 14,
   "metadata": {},
   "outputs": [
    {
     "name": "stdout",
     "output_type": "stream",
     "text": [
      "Train: 5923 for class 0\n",
      "Test: 980 for class 0\n",
      "\n",
      "Train: 6742 for class 1\n",
      "Test: 1135 for class 1\n",
      "\n",
      "Train: 5958 for class 2\n",
      "Test: 1032 for class 2\n",
      "\n",
      "Train: 6131 for class 3\n",
      "Test: 1010 for class 3\n",
      "\n",
      "Train: 5842 for class 4\n",
      "Test: 982 for class 4\n",
      "\n",
      "Train: 5421 for class 5\n",
      "Test: 892 for class 5\n",
      "\n",
      "Train: 5918 for class 6\n",
      "Test: 958 for class 6\n",
      "\n",
      "Train: 6265 for class 7\n",
      "Test: 1028 for class 7\n",
      "\n",
      "Train: 5851 for class 8\n",
      "Test: 974 for class 8\n",
      "\n",
      "Train: 5949 for class 9\n",
      "Test: 1009 for class 9\n",
      "\n",
      "Min Train: 5421 | Max Train: 6742\n",
      "Min Test: 892 | Max Test: 1135\n"
     ]
    }
   ],
   "source": [
    "train_num_images = []\n",
    "test_num_images = []\n",
    "for i in range(10):\n",
    "    num_train = len(os.listdir(os.path.join(train_data_dir, str(i))))\n",
    "    train_num_images.append(num_train)\n",
    "    print(f'Train: {num_train} for class {i}')\n",
    "    num_test = len(os.listdir(os.path.join(test_data_dir, str(i))))\n",
    "    test_num_images.append(num_test)\n",
    "    print(f'Test: {num_test} for class {i}\\n')\n",
    "    \n",
    "print(f'Min Train: {min(train_num_images)} | Max Train: {max(train_num_images)}')\n",
    "print(f'Min Test: {min(test_num_images)} | Max Test: {max(test_num_images)}')\n",
    "\n",
    "train_min_num_image = min(train_num_images)\n",
    "test_min_num_image = min(test_num_images)"
   ]
  },
  {
   "cell_type": "code",
   "execution_count": 27,
   "metadata": {},
   "outputs": [],
   "source": [
    "new_base_dir = pathlib.Path(\"./data/MNIST_Manual_Dataset\")\n",
    "\n",
    "def make_subset(base_dir, subset_name, create_balance, start_index, end_index):\n",
    "    for category in (\"0\", \"1\", \"2\", \"3\", \"4\", \"5\", \"6\", \"7\", \"8\", \"9\"):\n",
    "        dir = new_base_dir / subset_name / category\n",
    "        if not os.path.exists(dir):\n",
    "            os.makedirs(dir)\n",
    "        if create_balance:\n",
    "            files = os.listdir(os.path.join(base_dir, category))\n",
    "            fnames = [files[i] for i in range(start_index, end_index)]\n",
    "            for fname in fnames:\n",
    "                shutil.copyfile(src=os.path.join(base_dir, category, fname),\n",
    "                dst=os.path.join(dir, fname))\n",
    "        else:\n",
    "            pass # for creating imbalance dataset (using percentages)"
   ]
  },
  {
   "cell_type": "code",
   "execution_count": 25,
   "metadata": {},
   "outputs": [
    {
     "name": "stdout",
     "output_type": "stream",
     "text": [
      "5420\n"
     ]
    },
    {
     "data": {
      "text/plain": [
       "1000.0"
      ]
     },
     "execution_count": 25,
     "metadata": {},
     "output_type": "execute_result"
    }
   ],
   "source": [
    "print(train_min_num_image-1)\n",
    "5000 - (5000 * 0.8)\n"
   ]
  },
  {
   "cell_type": "code",
   "execution_count": 30,
   "metadata": {},
   "outputs": [],
   "source": [
    "make_subset(train_data_dir, \"validation\", create_balance=True, start_index=0, end_index=1000)\n",
    "make_subset(train_data_dir, \"train\", create_balance=True, start_index=1000, end_index=5000)\n",
    "make_subset(test_data_dir, \"test\", create_balance=True, start_index=0, end_index=800)"
   ]
  },
  {
   "cell_type": "code",
   "execution_count": 3,
   "metadata": {},
   "outputs": [],
   "source": [
    "train_dir = \"./data/MNIST_Manual_Dataset/train\"\n",
    "validation_dir = \"./data/MNIST_Manual_Dataset/validation\"\n",
    "test_dir = \"./data/MNIST_Manual_Dataset/test\""
   ]
  },
  {
   "cell_type": "code",
   "execution_count": 4,
   "metadata": {},
   "outputs": [
    {
     "name": "stdout",
     "output_type": "stream",
     "text": [
      "Train Loader:\n",
      "Found 40010 files belonging to 10 classes.\n",
      "Validation Loader:\n",
      "Found 9990 files belonging to 10 classes.\n",
      "Test Loader:\n",
      "Found 7990 files belonging to 10 classes.\n"
     ]
    }
   ],
   "source": [
    "# Doc: https://keras.io/api/data_loading/image/\n",
    "\n",
    "print('Train Loader:')\n",
    "train_dataset = image_dataset_from_directory(\n",
    "    train_dir,\n",
    "    image_size=(100, 100),\n",
    "    batch_size=32,\n",
    "    label_mode='int',\n",
    "    color_mode='grayscale'\n",
    ")\n",
    "\n",
    "print('Validation Loader:')\n",
    "validation_dataset = image_dataset_from_directory(\n",
    "    validation_dir,\n",
    "    image_size=(100, 100),\n",
    "    batch_size=32,\n",
    "    label_mode='int',\n",
    "    color_mode='grayscale'\n",
    ")\n",
    "\n",
    "print('Test Loader:')\n",
    "test_dataset = image_dataset_from_directory(\n",
    "    test_dir,\n",
    "    image_size=(100, 100),\n",
    "    batch_size=32,\n",
    "    label_mode='int',\n",
    "    color_mode='grayscale'\n",
    ")"
   ]
  },
  {
   "cell_type": "code",
   "execution_count": 40,
   "metadata": {},
   "outputs": [
    {
     "data": {
      "text/plain": [
       "tensorflow.python.data.ops.dataset_ops.BatchDataset"
      ]
     },
     "execution_count": 40,
     "metadata": {},
     "output_type": "execute_result"
    }
   ],
   "source": [
    "type(test_dataset)\n",
    "# test_dataset.element_spec"
   ]
  },
  {
   "cell_type": "code",
   "execution_count": 55,
   "metadata": {},
   "outputs": [
    {
     "name": "stdout",
     "output_type": "stream",
     "text": [
      "data batch shape: (32, 100, 100, 1)\n",
      "label batch shape: (32,)\n"
     ]
    },
    {
     "name": "stderr",
     "output_type": "stream",
     "text": [
      "C:\\Users\\moham\\AppData\\Local\\Temp\\ipykernel_10436\\3344828838.py:5: UserWarning: FigureCanvasAgg is non-interactive, and thus cannot be shown\n",
      "  plt.show()\n"
     ]
    }
   ],
   "source": [
    "for data_batch, label_batch in train_dataset.take(1):\n",
    "    print('data batch shape:', data_batch.shape)\n",
    "    print('label batch shape:', label_batch.shape)\n",
    "\n",
    "plt.show()"
   ]
  },
  {
   "cell_type": "code",
   "execution_count": 4,
   "metadata": {},
   "outputs": [
    {
     "data": {
      "text/plain": [
       "tensorflow.python.data.ops.dataset_ops.PrefetchDataset"
      ]
     },
     "execution_count": 4,
     "metadata": {},
     "output_type": "execute_result"
    }
   ],
   "source": [
    "type(validation_dataset)\n",
    "# len(train_dataset)\n",
    "# train_dataset.shape"
   ]
  },
  {
   "cell_type": "code",
   "execution_count": 65,
   "metadata": {},
   "outputs": [
    {
     "name": "stdout",
     "output_type": "stream",
     "text": [
      "Model: \"model_4\"\n",
      "_________________________________________________________________\n",
      "Layer (type)                 Output Shape              Param #   \n",
      "=================================================================\n",
      "input_6 (InputLayer)         [(None, 100, 100, 1)]     0         \n",
      "_________________________________________________________________\n",
      "rescaling_3 (Rescaling)      (None, 100, 100, 1)       0         \n",
      "_________________________________________________________________\n",
      "conv2d_17 (Conv2D)           (None, 98, 98, 32)        320       \n",
      "_________________________________________________________________\n",
      "max_pooling2d_12 (MaxPooling (None, 49, 49, 32)        0         \n",
      "_________________________________________________________________\n",
      "conv2d_18 (Conv2D)           (None, 47, 47, 64)        18496     \n",
      "_________________________________________________________________\n",
      "max_pooling2d_13 (MaxPooling (None, 23, 23, 64)        0         \n",
      "_________________________________________________________________\n",
      "conv2d_19 (Conv2D)           (None, 21, 21, 128)       73856     \n",
      "_________________________________________________________________\n",
      "max_pooling2d_14 (MaxPooling (None, 10, 10, 128)       0         \n",
      "_________________________________________________________________\n",
      "conv2d_20 (Conv2D)           (None, 8, 8, 256)         295168    \n",
      "_________________________________________________________________\n",
      "max_pooling2d_15 (MaxPooling (None, 4, 4, 256)         0         \n",
      "_________________________________________________________________\n",
      "conv2d_21 (Conv2D)           (None, 2, 2, 256)         590080    \n",
      "_________________________________________________________________\n",
      "flatten_4 (Flatten)          (None, 1024)              0         \n",
      "_________________________________________________________________\n",
      "dense_4 (Dense)              (None, 10)                10250     \n",
      "=================================================================\n",
      "Total params: 988,170\n",
      "Trainable params: 988,170\n",
      "Non-trainable params: 0\n",
      "_________________________________________________________________\n"
     ]
    }
   ],
   "source": [
    "\n",
    "inputs = layers.Input(shape=(100, 100, 1))\n",
    "try:\n",
    "    x = layers.Rescaling(1./255)(inputs)\n",
    "except:\n",
    "    x = layers.experimental.preprocessing.Rescaling(1./255)(inputs)\n",
    "x = layers.Conv2D(filters=32, kernel_size=3, activation=\"relu\")(x)\n",
    "x = layers.MaxPooling2D(pool_size=2)(x)\n",
    "x = layers.Conv2D(filters=64, kernel_size=3, activation=\"relu\")(x)\n",
    "x = layers.MaxPooling2D(pool_size=2)(x)\n",
    "x = layers.Conv2D(filters=128, kernel_size=3, activation=\"relu\")(x)\n",
    "x = layers.MaxPooling2D(pool_size=2)(x)\n",
    "x = layers.Conv2D(filters=256, kernel_size=3, activation=\"relu\")(x)\n",
    "x = layers.MaxPooling2D(pool_size=2)(x)\n",
    "x = layers.Conv2D(filters=256, kernel_size=3, activation=\"relu\")(x)\n",
    "x = layers.Flatten()(x)\n",
    "outputs = layers.Dense(10, activation=\"softmax\")(x)\n",
    "model = models.Model(inputs=inputs, outputs=outputs)\n",
    "\n",
    "model.summary()\n",
    "# model = cnn_model()"
   ]
  },
  {
   "cell_type": "markdown",
   "metadata": {},
   "source": [
    "### Model Compile and Callbacks"
   ]
  },
  {
   "cell_type": "code",
   "execution_count": 66,
   "metadata": {},
   "outputs": [],
   "source": [
    "\n",
    "# Compile the model\n",
    "model.compile(optimizer='adam', loss='sparse_categorical_crossentropy', metrics=['accuracy'])\n"
   ]
  },
  {
   "cell_type": "code",
   "execution_count": 60,
   "metadata": {},
   "outputs": [],
   "source": [
    "checkpoints = callbacks.ModelCheckpoint(config[\"training_data\"][\"callbacks_path_checkpoints\"] + 'weights_epoch_{epoch}.h5',\n",
    "                                        monitor='val_loss',\n",
    "                                        save_weights_only=True)\n",
    "tensorboard = callbacks.TensorBoard(config[\"training_data\"][\"callbacks_path_tensorboard\"] + 'tensorboard')\n",
    "csv_logger = callbacks.CSVLogger(config[\"training_data\"][\"callbacks_path_csvlogger\"] + 'training.log')\n",
    "early_stopping = callbacks.EarlyStopping(monitor='val_loss', patience=2)\n",
    "callbacks_list = [checkpoints, tensorboard, csv_logger, early_stopping]"
   ]
  },
  {
   "cell_type": "markdown",
   "metadata": {},
   "source": [
    "### Model Train"
   ]
  },
  {
   "cell_type": "code",
   "execution_count": 67,
   "metadata": {},
   "outputs": [
    {
     "name": "stdout",
     "output_type": "stream",
     "text": [
      "Epoch 1/30\n",
      "1251/1251 [==============================] - 110s 87ms/step - loss: 0.1648 - accuracy: 0.9483 - val_loss: 0.0819 - val_accuracy: 0.9749\n",
      "Epoch 2/30\n",
      "1251/1251 [==============================] - 108s 86ms/step - loss: 0.0620 - accuracy: 0.9808 - val_loss: 0.0619 - val_accuracy: 0.9817\n",
      "Epoch 3/30\n",
      "1251/1251 [==============================] - 106s 85ms/step - loss: 0.0427 - accuracy: 0.9860 - val_loss: 0.0596 - val_accuracy: 0.9843\n",
      "Epoch 4/30\n",
      "1251/1251 [==============================] - 107s 85ms/step - loss: 0.0309 - accuracy: 0.9901 - val_loss: 0.0677 - val_accuracy: 0.9819\n",
      "Epoch 5/30\n",
      "1251/1251 [==============================] - 107s 85ms/step - loss: 0.0244 - accuracy: 0.9922 - val_loss: 0.0665 - val_accuracy: 0.9807\n",
      "Epoch 6/30\n",
      "1251/1251 [==============================] - 106s 85ms/step - loss: 0.0203 - accuracy: 0.9936 - val_loss: 0.0659 - val_accuracy: 0.9843\n",
      "Training Time: 0:10:44.814486\n"
     ]
    }
   ],
   "source": [
    "time_start = datetime.datetime.now()\n",
    "epochs = 30\n",
    "model_history = model.fit(train_dataset, epochs=epochs, validation_data=validation_dataset, callbacks=callbacks_list)\n",
    "time_end = datetime.datetime.now()\n",
    "print(f\"Training Time: {time_end-time_start}\")"
   ]
  },
  {
   "cell_type": "code",
   "execution_count": 68,
   "metadata": {},
   "outputs": [],
   "source": [
    "model.save(config[\"training_data\"][\"model_save_path\"] + 'model_custom.h5')\n",
    "model.save_weights(config[\"training_data\"][\"model_save_path\"] + 'model_custom_weights.h5')"
   ]
  },
  {
   "cell_type": "code",
   "execution_count": 72,
   "metadata": {},
   "outputs": [],
   "source": [
    "plot_results(model_history)"
   ]
  },
  {
   "cell_type": "markdown",
   "metadata": {},
   "source": [
    "## Model Evaluation"
   ]
  },
  {
   "cell_type": "code",
   "execution_count": 73,
   "metadata": {},
   "outputs": [
    {
     "name": "stdout",
     "output_type": "stream",
     "text": [
      "250/250 [==============================] - 23s 90ms/step - loss: 0.0700 - accuracy: 0.9826\n",
      "Test Accuracy:  0.9826032519340515\n",
      "Test Loss:  0.07002811878919601\n"
     ]
    }
   ],
   "source": [
    "# Evaluate the model\n",
    "test_loss, test_accuracy = model.evaluate(test_dataset)\n",
    "print(\"Test Accuracy: \", test_accuracy); print(\"Test Loss: \", test_loss)"
   ]
  },
  {
   "cell_type": "markdown",
   "metadata": {},
   "source": [
    "## Model Load"
   ]
  },
  {
   "cell_type": "code",
   "execution_count": 5,
   "metadata": {},
   "outputs": [],
   "source": [
    "from tensorflow.keras.models import load_model\n",
    "model = load_model(config[\"training_data\"][\"model_save_path\"] + 'model_custom.h5')"
   ]
  },
  {
   "cell_type": "code",
   "execution_count": 20,
   "metadata": {},
   "outputs": [],
   "source": [
    "import numpy as np\n",
    "# Assuming `dataset` is your tf.data.Dataset object\n",
    "unbatched_dataset = test_dataset.unbatch()\n",
    "images, labels = [], []\n",
    "for image, label in unbatched_dataset.as_numpy_iterator():\n",
    "    images.append(image)\n",
    "    labels.append(label)\n",
    "\n",
    "test_images = np.array(images)\n",
    "test_labels = np.array(labels)"
   ]
  },
  {
   "cell_type": "code",
   "execution_count": 33,
   "metadata": {},
   "outputs": [],
   "source": [
    "test_labels_pred = model.predict(test_dataset)\n",
    "test_labels_np = np.argmax(test_labels_pred, axis=1)"
   ]
  },
  {
   "cell_type": "code",
   "execution_count": 21,
   "metadata": {},
   "outputs": [
    {
     "data": {
      "image/png": "[encoded data removed]",
      "text/plain": [
       "<Figure size 3000x3000 with 10 Axes>"
      ]
     },
     "metadata": {},
     "output_type": "display_data"
    }
   ],
   "source": [
    "\n",
    "plot_predicts(model, test_dataset, test_labels, test_images, 10)"
   ]
  }
 ],
 "metadata": {
  "kernelspec": {
   "display_name": "my_tf",
   "language": "python",
   "name": "python3"
  },
  "language_info": {
   "codemirror_mode": {
    "name": "ipython",
    "version": 3
   },
   "file_extension": ".py",
   "mimetype": "text/x-python",
   "name": "python",
   "nbconvert_exporter": "python",
   "pygments_lexer": "ipython3",
   "version": "3.9.18"
  }
 },
 "nbformat": 4,
 "nbformat_minor": 2
}
