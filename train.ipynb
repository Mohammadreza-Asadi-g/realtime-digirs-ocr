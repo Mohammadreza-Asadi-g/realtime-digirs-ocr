{
 "cells": [
  {
   "cell_type": "code",
   "execution_count": 2,
   "metadata": {},
   "outputs": [],
   "source": [
    "from tensorflow.keras import datasets, utils, models, layers, optimizers, losses, callbacks\n",
    "from src.model import cnn_model\n",
    "from src.utils import plot_results, plot_predicts\n",
    "import yaml\n",
    "import datetime\n"
   ]
  },
  {
   "cell_type": "code",
   "execution_count": null,
   "metadata": {},
   "outputs": [],
   "source": [
    "with open(\"./configs/configurations.yaml\", 'r') as file:\n",
    "    config = yaml.safe_load(file)"
   ]
  },
  {
   "cell_type": "markdown",
   "metadata": {},
   "source": [
    "## Data Preparation"
   ]
  },
  {
   "cell_type": "code",
   "execution_count": 1,
   "metadata": {},
   "outputs": [],
   "source": [
    "(train_images, train_labels), (test_images, test_labels) = datasets.mnist.load_data()\n",
    "\n",
    "# Preprocessing\n",
    "X_train = train_images.reshape(len(train_images), 28, 28, 1)\n",
    "X_test = test_images.reshape(len(test_images), 28, 28, 1)\n",
    "\n",
    "# Normalization\n",
    "X_train = X_train.astype('float32') / 255\n",
    "X_test =  X_test.astype('float32') / 255\n",
    "\n",
    "# OneHot Encoding\n",
    "Y_train = utils.to_categorical(train_labels)\n",
    "Y_test = utils.to_categorical(test_labels)"
   ]
  },
  {
   "cell_type": "markdown",
   "metadata": {},
   "source": [
    "## Model Compile and Callbacks"
   ]
  },
  {
   "cell_type": "code",
   "execution_count": null,
   "metadata": {},
   "outputs": [],
   "source": [
    "model = cnn_model()\n",
    "model.summary()\n",
    "model.compile(optimizer=optimizers.Adam(), loss=losses.categorical_crossentropy, metrics=['accuracy'])"
   ]
  },
  {
   "cell_type": "code",
   "execution_count": null,
   "metadata": {},
   "outputs": [],
   "source": [
    "checkpoints = callbacks.ModelCheckpoint(config[\"training_data\"][\"callbacks_path_checkpoints\"] + 'model.{epoch}.h5')\n",
    "tensorboard = callbacks.TensorBoard(config[\"training_data\"][\"callbacks_path_tensorboard\"] + 'tensorboard')\n",
    "csv_logger = callbacks.CSVLogger(config[\"training_data\"][\"callbacks_path_csvlogger\"] + 'training.log')\n",
    "callbacks_list = [checkpoints, tensorboard, csv_logger]"
   ]
  },
  {
   "cell_type": "markdown",
   "metadata": {},
   "source": [
    "## Model Train"
   ]
  },
  {
   "cell_type": "code",
   "execution_count": 6,
   "metadata": {},
   "outputs": [],
   "source": [
    "time_start = datetime.datetime.now()\n",
    "model_history = model.fit(X_train, Y_train,\n",
    "                           batch_size=config[\"training_data\"][\"batch_size\"],\n",
    "                           epochs=config[\"training_data\"][\"epochs\"], \n",
    "                           validation_split=config[\"training_data\"][\"validation_split\"],\n",
    "                           shuffle=True,\n",
    "                           callbacks=callbacks_list)\n",
    "time_end = datetime.datetime.now()\n",
    "print(f\"Training Time: {time_end-time_start}\")"
   ]
  },
  {
   "cell_type": "code",
   "execution_count": null,
   "metadata": {},
   "outputs": [],
   "source": [
    "model.save(config[\"training_data\"][\"model_save_path\"] + 'model.h5')\n",
    "model.save_weights(config[\"training_data\"][\"model_save_path\"] + 'model_weights.h5')"
   ]
  },
  {
   "cell_type": "code",
   "execution_count": null,
   "metadata": {},
   "outputs": [],
   "source": [
    "plot_results(model_history)"
   ]
  },
  {
   "cell_type": "markdown",
   "metadata": {},
   "source": [
    "## Model Evaluation"
   ]
  },
  {
   "cell_type": "code",
   "execution_count": null,
   "metadata": {},
   "outputs": [],
   "source": [
    "test_loss, test_accuracy = model.evaluate(X_test, Y_test)\n",
    "print(\"Test Accuracy: \", test_accuracy); print(\"Test Loss: \", test_loss)"
   ]
  },
  {
   "cell_type": "code",
   "execution_count": null,
   "metadata": {},
   "outputs": [],
   "source": [
    "plot_predicts(model, X_test, test_labels, test_images, 10)"
   ]
  }
 ],
 "metadata": {
  "kernelspec": {
   "display_name": "my_tf",
   "language": "python",
   "name": "python3"
  },
  "language_info": {
   "codemirror_mode": {
    "name": "ipython",
    "version": 3
   },
   "file_extension": ".py",
   "mimetype": "text/x-python",
   "name": "python",
   "nbconvert_exporter": "python",
   "pygments_lexer": "ipython3",
   "version": "3.9.18"
  }
 },
 "nbformat": 4,
 "nbformat_minor": 2
}
